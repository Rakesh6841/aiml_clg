{
 "cells": [
  {
   "cell_type": "code",
   "execution_count": 3,
   "metadata": {},
   "outputs": [
    {
     "name": "stdout",
     "output_type": "stream",
     "text": [
      
     ]
    }
   ],
   "source": [
    "import numpy as np\n",
    "import pandas as pd\n",
    "data = pd.read_csv('pranavkm.csv')\n",
    "print(data)\n",
    "concepts = np.array(data.iloc[:,0:-1])\n",
    "target = np.array(data.iloc[:,-1])\n",
    "print(concepts)\n",
    "print(target)"
   ]
  },
  {
   "cell_type": "code",
   "execution_count": 6,
   "metadata": {},
   "outputs": [],
   "source": [
    "def learn(concepts,target):\n",
    "# count = 0\n",
    "# first = ['?','?','?','?','?','?']\n",
    "    for i, val in enumerate(target):\n",
    "        if val == 'Yes':\n",
    "            #print(specific_h)\n",
    "            break\n",
    "    specific_h = concepts[i].copy()\n",
    "    print(specific_h)\n",
    "    generic_h = [[\"?\" for i in range(len(specific_h))] for i in range (len(specific_h))]\n",
    "    print(generic_h)\n",
    "    for i,h in enumerate(concepts):\n",
    "        print(i+1)\n",
    "        print(\"With instance\", h)\n",
    "        if target[i] == \"Yes\":\n",
    "            for x in range(len(specific_h)):\n",
    "                if h[x] != specific_h[x]:\n",
    "                    specific_h[x] = \"?\"\n",
    "                    generic_h[x][x] = \"?\"\n",
    "            print(\"Specfic value\", specific_h)\n",
    "            print(\"Generic value\", generic_h)\n",
    "        if target[i] == \"No\":\n",
    "            for x in range(len(specific_h)):\n",
    "                if h[x] != specific_h[x]:\n",
    "                    generic_h[x][x] = specific_h[x]\n",
    "                else:\n",
    "                    generic_h[x][x] == \"?\"\n",
    "            print(\"Specfic value\", specific_h)\n",
    "            print(\"Generic value\", generic_h)\n",
    "    indices=[i for i, val in enumerate(generic_h)if val == ['?','?','?','?','?','?']]\n",
    "    for i in indices:\n",
    "        generic_h.remove(['?','?','?','?','?','?'])\n",
    "    return specific_h, generic_h"
   ]
  },
  {
   "cell_type": "code",
   "execution_count": 7,
   "metadata": {},
   "outputs": [
    {
     "name": "stdout",
     "output_type": "stream",
     "text": [
      
     ]
    }
   ],
   "source": [
    "s_final,g_final = learn(concepts,target)\n",
    "print(\"final s:\",s_final,sep=\"\\n\")\n",
    "print(\"final g:\",g_final,sep=\"\\n\")"
   ]
  }
 ],
 "metadata": {
  "kernelspec": {
   "display_name": "Python 3",
   "language": "python",
   "name": "python3"
  },
  "language_info": {
   "codemirror_mode": {
    "name": "ipython",
    "version": 3
   },
   "file_extension": ".py",
   "mimetype": "text/x-python",
   "name": "python",
   "nbconvert_exporter": "python",
   "pygments_lexer": "ipython3",
   "version": "3.10.9"
  },
  "orig_nbformat": 4,
  "vscode": {
   "interpreter": {
    "hash": "1b694b46c9e72dc8eaef410f514fdf07837948f409f18887b35c17d48549652b"
   }
  }
 },
 "nbformat": 4,
 "nbformat_minor": 2
}
