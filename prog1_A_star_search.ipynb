{
 "cells": [
  {
   "cell_type": "code",
   "execution_count": 1,
   "metadata": {},
   "outputs": [
    {
     "name": "stdout",
     "output_type": "stream",
     "text": [
      "Path does not exist!\n"
     ]
    }
   ],
   "source": [
    "from collections import deque\n",
    "class Graph:\n",
    "    def __init__(self, adjac_lis):\n",
    "        self.adjac_lis = adjac_lis\n",
    "    def get_neighbors(self, v):\n",
    "        return self.adjac_lis[v]\n",
    "    def h(self, n):\n",
    "        H = {\n",
    "        'A': 1,\n",
    "        'B': 1,\n",
    "        'C': 1,\n",
    "        'D': 1\n",
    "        }\n",
    "        return H[n]\n",
    "    def a_star_algorithm(self, start, stop):\n",
    "        open_lst = set([start])\n",
    "        closed_lst = set([])\n",
    "        poo = {}\n",
    "        poo[start] = 0\n",
    "        par = {}\n",
    "        par[start] = start\n",
    "        while len(open_lst) > 0:\n",
    "            n = None\n",
    "            for v in open_lst:\n",
    "                if n == None or poo[v] + self.h(v) < poo[n] + self.h(n):\n",
    "                    n = v;\n",
    "            if n == None:\n",
    "                print('Path does not exist!')\n",
    "                return None\n",
    "            if n == stop:\n",
    "                reconst_path = []\n",
    "                while par[n] != n:\n",
    "                    reconst_path.append(n)\n",
    "                    n = par[n]\n",
    "                reconst_path.append(start)\n",
    "                reconst_path.reverse()\n",
    "                print('Path found: {}'.format(reconst_path))\n",
    "                return reconst_path\n",
    "                for (m, weight) in self.get_neighbors(n):\n",
    "                    if m not in open_lst and m not in closed_lst:\n",
    "                        open_lst.add(m)\n",
    "                        par[m] = n\n",
    "                        poo[m] = poo[n] + weight\n",
    "                    else:\n",
    "                        if poo[m] > poo[n] + weight:\n",
    "                            poo[m] = poo[n] + weight\n",
    "                            par[m] = n\n",
    "                            if m in closed_lst:\n",
    "                                closed_lst.remove(m)\n",
    "                                open_lst.add(m)\n",
    "                open_lst.remove(n)\n",
    "                closed_lst.add(n)\n",
    "            print('Path does not exist!')\n",
    "            return None\n",
    "adjac_lis ={\n",
    "    'A': [('B', 1), ('C', 3), ('D', 7)],\n",
    "    'B': [('D', 5)],\n",
    "    'C': [('D', 12)]\n",
    "}\n",
    "graph1 =Graph(adjac_lis)\n",
    "graph1.a_star_algorithm('A', 'D')"
   ]
  }
 ],
 "metadata": {
  "kernelspec": {
   "display_name": "Python 3",
   "language": "python",
   "name": "python3"
  },
  "language_info": {
   "codemirror_mode": {
    "name": "ipython",
    "version": 3
   },
   "file_extension": ".py",
   "mimetype": "text/x-python",
   "name": "python",
   "nbconvert_exporter": "python",
   "pygments_lexer": "ipython3",
   "version": "3.10.9"
  },
  "orig_nbformat": 4,
  "vscode": {
   "interpreter": {
    "hash": "1b694b46c9e72dc8eaef410f514fdf07837948f409f18887b35c17d48549652b"
   }
  }
 },
 "nbformat": 4,
 "nbformat_minor": 2
}
