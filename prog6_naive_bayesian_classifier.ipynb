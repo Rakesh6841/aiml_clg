{
 "cells": [
  {
   "cell_type": "code",
   "execution_count": 1,
   "metadata": {},
   "outputs": [],
   "source": [
    "import csv\n",
    "import random\n",
    "import math\n",
    "def loadCsv(filename):\n",
    "    lines = csv.reader (open (filename, \"r\"));\n",
    "    dataset=list(lines)\n",
    "    for i in range(len(dataset)):\n",
    "        dataset[i]=[float(x) for x in dataset[i]]\n",
    "    return dataset"
   ]
  },
  {
   "cell_type": "code",
   "execution_count": 2,
   "metadata": {},
   "outputs": [],
   "source": [
    "def splitDataset (dataset, splitRatio):\n",
    "    trainSize=int(len(dataset) *splitRatio);\n",
    "    trainSet=[]\n",
    "    copy=list(dataset);\n",
    "    while len (trainSet) <trainSize:\n",
    "        index=random.randrange(len(copy));\n",
    "        trainSet.append(copy.pop(index))\n",
    "    return [trainSet,copy]"
   ]
  },
  {
   "cell_type": "code",
   "execution_count": 3,
   "metadata": {},
   "outputs": [],
   "source": [
    "def separateByClass(dataset):\n",
    "    separated={}\n",
    "    for i in range(len(dataset)):\n",
    "        vector=dataset[i]\n",
    "        if (vector [-1] not in separated):\n",
    "            separated[vector [-1]]=[]\n",
    "        separated [vector [-1]].append(vector)\n",
    "    return separated"
   ]
  },
  {
   "cell_type": "code",
   "execution_count": 4,
   "metadata": {},
   "outputs": [],
   "source": [
    "def mean (numbers):\n",
    "    return sum(numbers)/float (len(numbers))"
   ]
  },
  {
   "cell_type": "code",
   "execution_count": 5,
   "metadata": {},
   "outputs": [],
   "source": [
    "def stdev(numbers):\n",
    "    avg=mean(numbers)\n",
    "    variance=sum([pow(x-avg, 2) for x in numbers])/float (len(numbers)-1)\n",
    "    return math.sqrt(variance)"
   ]
  },
  {
   "cell_type": "code",
   "execution_count": 6,
   "metadata": {},
   "outputs": [],
   "source": [
    "def stdev (numbers): \n",
    "    avg=mean (numbers)\n",
    "    variance=sum([pow(x-avg, 2) for x in numbers])/float (len(numbers)-1)\n",
    "    return math.sqrt(variance)"
   ]
  },
  {
   "cell_type": "code",
   "execution_count": 7,
   "metadata": {},
   "outputs": [],
   "source": [
    "def summarize (dataset):\n",
    "    summaries=[(mean(attribute), stdev(attribute)) for attribute in zip(*dataset)];\n",
    "    del summaries[-1]\n",
    "    return summaries"
   ]
  },
  {
   "cell_type": "code",
   "execution_count": 8,
   "metadata": {},
   "outputs": [],
   "source": [
    "def summarizeByClass (dataset):\n",
    "    separated=separateByClass (dataset);\n",
    "    summaries={}\n",
    "    for classValue, instances in separated.items():\n",
    "        summaries [classValue] = summarize(instances)\n",
    "    return summaries"
   ]
  },
  {
   "cell_type": "code",
   "execution_count": 9,
   "metadata": {},
   "outputs": [],
   "source": [
    "def calculateProbabiliy(x, mean, stdev):\n",
    "    exponent=math.exp(-(math.pow(x-mean, 2)/(2*math.pow(stdev, 2))))\n",
    "    return(1/(math.sqrt(2*math.pi)*stdev))*exponent"
   ]
  },
  {
   "cell_type": "code",
   "execution_count": 10,
   "metadata": {},
   "outputs": [],
   "source": [
    "def calculateClassProbabilites (summaries, inputvector):\n",
    "    probabilites={}\n",
    "    for classValue, classSummaries in summaries.items():\n",
    "        probabilites[classValue]=1\n",
    "        for i in range(len(classSummaries)):\n",
    "            mean,stdev=classSummaries[i]\n",
    "            x=inputvector[i]\n",
    "            probabilites[classValue]*=calculateProbabiliy(x, mean,stdev);\n",
    "        return probabilites"
   ]
  },
  {
   "cell_type": "code",
   "execution_count": 11,
   "metadata": {},
   "outputs": [],
   "source": [
    "def predict(summaries, inputVector):\n",
    "    probabilites=calculateClassProbabilites (summaries, inputVector)\n",
    "    bestLabel, bestProb=None, -1\n",
    "    for classValue, probability in probabilites.items():\n",
    "        if bestLabel is None or probability>bestProb:\n",
    "            bestProb=probability\n",
    "            bestLabel=classValue\n",
    "    return bestLabel"
   ]
  },
  {
   "cell_type": "code",
   "execution_count": 12,
   "metadata": {},
   "outputs": [],
   "source": [
    "def getPredictions (summaries, testSet):\n",
    "    predictions=[]\n",
    "    for i in range(len(testSet)):\n",
    "        result=predict (summaries, testSet[i])\n",
    "        predictions.append(result)\n",
    "    return predictions"
   ]
  },
  {
   "cell_type": "code",
   "execution_count": 13,
   "metadata": {},
   "outputs": [],
   "source": [
    "def getAccuracy (testSet, predictions):\n",
    "    correct=0\n",
    "    for i in range(len(testSet)):\n",
    "        if testSet[-i] [-1]==predictions[i]:\n",
    "            correct+=1\n",
    "    return (correct/float(len(testSet)))*100.0"
   ]
  },
  {
   "cell_type": "code",
   "execution_count": 14,
   "metadata": {},
   "outputs": [],
   "source": [
    "def main():\n",
    "    filename=\"diabetesdata.csv\"\n",
    "    splitRatio=.90\n",
    "    dataset=loadCsv(filename);\n",
    "    trainingSet, testSet=splitDataset (dataset, splitRatio)\n",
    "    print('Split{0} rows into train={1} and test={2} rows'.format(len(dataset), len (trainingSet), len(testSet)))\n",
    "    summaries=summarizeByClass (trainingSet);\n",
    "    predictions=getPredictions (summaries, testSet)\n",
    "    accuracy=getAccuracy (testSet, predictions)\n",
    "    print('Accuracy of the classifier is:{0}%'.format(accuracy))"
   ]
  },
  {
   "cell_type": "code",
   "execution_count": 15,
   "metadata": {},
   "outputs": [
    {
     "name": "stdout",
     "output_type": "stream",
     "text": [
      "Split768 rows into train=691 and test=77 rows\n",
      "Accuracy of the classifier is:66.23376623376623%\n"
     ]
    }
   ],
   "source": [
    "main()"
   ]
  }
 ],
 "metadata": {
  "kernelspec": {
   "display_name": "Python 3",
   "language": "python",
   "name": "python3"
  },
  "language_info": {
   "codemirror_mode": {
    "name": "ipython",
    "version": 3
   },
   "file_extension": ".py",
   "mimetype": "text/x-python",
   "name": "python",
   "nbconvert_exporter": "python",
   "pygments_lexer": "ipython3",
   "version": "3.6.5"
  }
 },
 "nbformat": 4,
 "nbformat_minor": 2
}
