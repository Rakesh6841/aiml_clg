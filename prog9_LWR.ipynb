{
 "cells": [
  {
   "cell_type": "code",
   "execution_count": null,
   "metadata": {},
   "outputs": [],
   "source": [
    "from numpy import *\n",
    "import operator\n",
    "from os import listdir\n",
    "import matplotlib\n",
    "import matplotlib.pyplot as plt\n",
    "import pandas as pd\n",
    "import numpy as np1\n",
    "import numpy.linalg as np\n",
    "from scipy.stats.stats import pearsonr"
   ]
  },
  {
   "cell_type": "code",
   "execution_count": null,
   "metadata": {},
   "outputs": [],
   "source": [
    "def kernel(point, xmat, k):\n",
    "    m, n = np1.shape(xmat)\n",
    "    weights = np1.mat(np1.eye(m))\n",
    "    for j in range(m):\n",
    "        diff = point - X[j]\n",
    "        weights[j,j] = np1.exp(diff*diff.T/(-2.0*k**2))\n",
    "    return weights"
   ]
  },
  {
   "cell_type": "code",
   "execution_count": null,
   "metadata": {},
   "outputs": [],
   "source": [
    "def localWeight(point, xmat, ymat, k):\n",
    "    wei = kernel(point, xmat, k)\n",
    "    W = (X.T*(wei*X)).I*(X.T*(wei*ymat.T))\n",
    "    return W"
   ]
  },
  {
   "cell_type": "code",
   "execution_count": null,
   "metadata": {},
   "outputs": [],
   "source": [
    "def localWeightRegression(xmat, ymat, k):\n",
    "    m,n = np1.shape(xmat)\n",
    "    ypred = np1.zeros(m)\n",
    "    for i in range(m):\n",
    "        ypred = xmat[i] * localWeight(xmat[i],xmat,ymat,k)\n",
    "    return ypred"
   ]
  },
  {
   "cell_type": "code",
   "execution_count": null,
   "metadata": {},
   "outputs": [],
   "source": [
    "data = pd.read_csv('tips.csv')\n",
    "bill = np1.array(data.total_bill)\n",
    "tip = np1.array(data.tip)\n",
    "mbill = np1.mat(bill)\n",
    "mtip = np1.mat(tip)"
   ]
  },
  {
   "cell_type": "code",
   "execution_count": null,
   "metadata": {},
   "outputs": [],
   "source": [
    "m = np1.shape(mbill)\n",
    "one = np1.mat(np1.ones(m))\n",
    "X = np1.hstack((one.T, mbill.T))\n",
    "ypred = localWeightRegression(X,mtip,2)\n",
    "SortIndex = X[:,1].argsort(0)\n",
    "xsort = X[SortIndex][:,0]"
   ]
  },
  {
   "cell_type": "code",
   "execution_count": null,
   "metadata": {},
   "outputs": [],
   "source": [
    "fig = plt.figure()\n",
    "ax = fig.add_subplot(1,1,1)\n",
    "ax.scatter(bill, tip, color=\"green\")\n",
    "ax.plot(xsort[:,1], ypred[SortIndex], color='red', linewidth=5)\n",
    "plt.xlabel(\"Total bill\")\n",
    "plt.ylabel(\"Tip\")\n",
    "\n",
    "plt.show()"
   ]
  }
 ],
 "metadata": {
  "kernelspec": {
   "display_name": "Python 3",
   "language": "python",
   "name": "python3"
  },
  "language_info": {
   "codemirror_mode": {
    "name": "ipython",
    "version": 3
   },
   "file_extension": ".py",
   "mimetype": "text/x-python",
   "name": "python",
   "nbconvert_exporter": "python",
   "pygments_lexer": "ipython3",
   "version": "3.10.9"
  },
  "orig_nbformat": 4,
  "vscode": {
   "interpreter": {
    "hash": "1b694b46c9e72dc8eaef410f514fdf07837948f409f18887b35c17d48549652b"
   }
  }
 },
 "nbformat": 4,
 "nbformat_minor": 2
}
